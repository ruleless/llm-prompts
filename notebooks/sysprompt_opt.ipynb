{
 "cells": [
  {
   "cell_type": "code",
   "execution_count": null,
   "id": "0b4f5955",
   "metadata": {},
   "outputs": [],
   "source": [
    "from setup import services\n",
    "\n",
    "texts = [\n",
    "# \"\"\"\n",
    "# 请优化以下文本。要求：\n",
    "# 1. 保持原文核心意思不变，不添加新内容或扩充语句；\n",
    "# 2. 提升语言表达的流畅性、准确性和专业性；\n",
    "# 3. 给出至少3个不同侧重点的优化示例，每个示例都应展示不同的优化策略（如结构调整、词汇替换、句式优化等）；4. 在每个示例后简要说明所做的优化改进；\n",
    "# 5. 不要输出原文。\n",
    "# \"\"\",\n",
    "\"\"\"\n",
    "你是一位持有CATTI一级翻译资格证书、拥有8年以上专业经验的中英双语翻译专家，精通商务、科技、文学和日常交流等多领域文本翻译，尤其擅长在不同语境下提供多样化的表达方案。\n",
    "\n",
    "你的任务是将用户提供的英文文本翻译为中文，并提供至少3种不同表达方式的翻译版本。\n",
    "\"\"\"\n",
    "]\n",
    "\n",
    "services.sysprompt_opt.clear_history()\n",
    "for text in texts:\n",
    "    print(f\"{text}\")\n",
    "    services.sysprompt_opt.stream_chat(text)\n"
   ]
  }
 ],
 "metadata": {
  "kernelspec": {
   "display_name": "Python 3",
   "language": "python",
   "name": "python3"
  },
  "language_info": {
   "codemirror_mode": {
    "name": "ipython",
    "version": 3
   },
   "file_extension": ".py",
   "mimetype": "text/x-python",
   "name": "python",
   "nbconvert_exporter": "python",
   "pygments_lexer": "ipython3",
   "version": "3.11.8"
  }
 },
 "nbformat": 4,
 "nbformat_minor": 5
}
