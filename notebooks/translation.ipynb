{
 "cells": [
  {
   "cell_type": "code",
   "execution_count": null,
   "id": "37d8a051",
   "metadata": {},
   "outputs": [],
   "source": [
    "# 中译英\n",
    "\n",
    "from setup import services\n",
    "\n",
    "texts = [\n",
    "    \"你好，世界！\",\n",
    "    \"你好吗\",\n",
    "]\n",
    "\n",
    "for text in texts:\n",
    "    print(f\"\\n{text}\")\n",
    "    services.zh_to_en.stream_chat(text)\n"
   ]
  },
  {
   "cell_type": "code",
   "execution_count": null,
   "id": "5792f37a",
   "metadata": {},
   "outputs": [],
   "source": [
    "# 英译中\n",
    "\n",
    "from setup import services\n",
    "\n",
    "texts = [\n",
    "    \"Hello, world!\",\n",
    "    \"How are you?\",\n",
    "]\n",
    "for text in texts:\n",
    "    print(f\"{text}\")\n",
    "    services.en_to_zh.stream_chat(text)"
   ]
  },
  {
   "cell_type": "code",
   "execution_count": null,
   "id": "53bb2d81",
   "metadata": {},
   "outputs": [],
   "source": [
    "# 多版本翻译\n",
    "\n",
    "from setup import services\n",
    "\n",
    "texts = [\n",
    "    \"文本润色\",\n",
    "]\n",
    "for text in texts:\n",
    "    print(f\"{text}\")\n",
    "    services.zh_to_en_multi.stream_chat(text)\n"
   ]
  }
 ],
 "metadata": {
  "kernelspec": {
   "display_name": "Python 3",
   "language": "python",
   "name": "python3"
  },
  "language_info": {
   "codemirror_mode": {
    "name": "ipython",
    "version": 3
   },
   "file_extension": ".py",
   "mimetype": "text/x-python",
   "name": "python",
   "nbconvert_exporter": "python",
   "pygments_lexer": "ipython3",
   "version": "3.11.8"
  }
 },
 "nbformat": 4,
 "nbformat_minor": 5
}
