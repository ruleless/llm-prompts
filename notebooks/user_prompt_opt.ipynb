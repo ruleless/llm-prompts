{
 "cells": [
  {
   "cell_type": "code",
   "execution_count": null,
   "id": "14e49684",
   "metadata": {},
   "outputs": [],
   "source": [
    "from setup import services\n",
    "\n",
    "texts = [\n",
    "    \"\"\"\n",
    "请优化以下文本。要求：1、保持原文核心意思不变，不添加新内容或扩充语句；2、提升语言表达的流畅性、准确性和专业性；3、给出至少3个不同侧重点的优化示例，每个示例都应展示不同的优化策略（如结构调整、词汇替换、句式优化等）；4、在每个示例后简要说明所做的优化改进。\n",
    "\"\"\",\n",
    "]\n",
    "\n",
    "for text in texts:\n",
    "    print(f\"{text}\")\n",
    "    services.sysprompt_opt.stream_chat(text)"
   ]
  }
 ],
 "metadata": {
  "language_info": {
   "name": "python"
  }
 },
 "nbformat": 4,
 "nbformat_minor": 5
}
