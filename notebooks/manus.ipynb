{
 "cells": [
  {
   "cell_type": "code",
   "execution_count": null,
   "id": "c5442b6d",
   "metadata": {},
   "outputs": [],
   "source": [
    "from setup import services\n",
    "\n",
    "texts = [\n",
    "    \"\"\"\n",
    "python 有哪些好用的vscode格式化插件？\n",
    "\"\"\",\n",
    "]\n",
    "\n",
    "for text in texts:\n",
    "    print(f\"{text}\")\n",
    "    services.manus_ai.stream_chat(text)"
   ]
  }
 ],
 "metadata": {
  "kernelspec": {
   "display_name": "Python 3",
   "language": "python",
   "name": "python3"
  },
  "language_info": {
   "codemirror_mode": {
    "name": "ipython",
    "version": 3
   },
   "file_extension": ".py",
   "mimetype": "text/x-python",
   "name": "python",
   "nbconvert_exporter": "python",
   "pygments_lexer": "ipython3",
   "version": "3.11.8"
  }
 },
 "nbformat": 4,
 "nbformat_minor": 5
}
