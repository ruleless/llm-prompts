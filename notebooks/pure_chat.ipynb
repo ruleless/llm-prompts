{
 "cells": [
  {
   "cell_type": "code",
   "execution_count": null,
   "id": "e550af19",
   "metadata": {},
   "outputs": [],
   "source": [
    "from setup import services\n",
    "\n",
    "texts = [\n",
    "\"\"\"\n",
    "补全文本中的[MASK]部分，要求：\n",
    "- 补全后的文本与原文本在语义上保持一致\n",
    "- 提供1~3个示例\n",
    "- 仅输出文本即可，不需要解释\n",
    "\n",
    "原文本：\n",
    "应用及配置数据的变更只能[MASK]租户级别\n",
    "\"\"\",\n",
    "]\n",
    "\n",
    "services.pure_chat.clear_history()\n",
    "for text in texts:\n",
    "    print(f\"{text}\")\n",
    "    services.pure_chat.stream_chat(text)"
   ]
  }
 ],
 "metadata": {
  "kernelspec": {
   "display_name": "Python 3",
   "language": "python",
   "name": "python3"
  },
  "language_info": {
   "codemirror_mode": {
    "name": "ipython",
    "version": 3
   },
   "file_extension": ".py",
   "mimetype": "text/x-python",
   "name": "python",
   "nbconvert_exporter": "python",
   "pygments_lexer": "ipython3",
   "version": "3.11.8"
  }
 },
 "nbformat": 4,
 "nbformat_minor": 5
}
