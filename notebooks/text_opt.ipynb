{
 "cells": [
  {
   "cell_type": "code",
   "execution_count": null,
   "id": "fa845e5c",
   "metadata": {},
   "outputs": [],
   "source": [
    "from setup import services\n",
    "\n",
    "texts = [\n",
    "    \"\"\"\n",
    "你是一位专业的翻译专家，具备多语言转换和表达多样化的能力。\n",
    "\"\"\",\n",
    "]\n",
    "\n",
    "for text in texts:\n",
    "    print(f\"{text}\")\n",
    "    services.text_opt.stream_chat(text)"
   ]
  }
 ],
 "metadata": {
  "kernelspec": {
   "display_name": "Python 3",
   "language": "python",
   "name": "python3"
  },
  "language_info": {
   "codemirror_mode": {
    "name": "ipython",
    "version": 3
   },
   "file_extension": ".py",
   "mimetype": "text/x-python",
   "name": "python",
   "nbconvert_exporter": "python",
   "pygments_lexer": "ipython3",
   "version": "3.11.8"
  }
 },
 "nbformat": 4,
 "nbformat_minor": 5
}
