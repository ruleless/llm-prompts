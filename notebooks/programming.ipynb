{
 "cells": [
  {
   "cell_type": "code",
   "execution_count": null,
   "id": "616d43ec",
   "metadata": {},
   "outputs": [],
   "source": [
    "from setup import services\n",
    "\n",
    "texts = [\n",
    "# \"\"\"\n",
    "# 函数命名：\n",
    "# 构建URL映射列表\n",
    "# \"\"\",\n",
    "\"\"\"\n",
    "变量命名：\n",
    "起隔离作用的IP\n",
    "\"\"\",\n",
    "]\n",
    "\n",
    "services.programming.clear_history()\n",
    "for text in texts:\n",
    "    print(f\"{text}\")\n",
    "    services.programming.stream_chat(text)"
   ]
  }
 ],
 "metadata": {
  "kernelspec": {
   "display_name": "Python 3",
   "language": "python",
   "name": "python3"
  },
  "language_info": {
   "codemirror_mode": {
    "name": "ipython",
    "version": 3
   },
   "file_extension": ".py",
   "mimetype": "text/x-python",
   "name": "python",
   "nbconvert_exporter": "python",
   "pygments_lexer": "ipython3",
   "version": "3.11.8"
  }
 },
 "nbformat": 4,
 "nbformat_minor": 5
}
