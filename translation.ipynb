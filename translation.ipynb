{
 "cells": [
  {
   "cell_type": "code",
   "execution_count": null,
   "id": "f2d14cb3",
   "metadata": {},
   "outputs": [],
   "source": [
    "# 加载环境变量\n",
    "\n",
    "from dotenv import load_dotenv\n",
    "\n",
    "load_dotenv()  # 默认加载当前目录下的 .env 文件"
   ]
  },
  {
   "cell_type": "code",
   "execution_count": null,
   "id": "37d8a051",
   "metadata": {},
   "outputs": [],
   "source": [
    "# 中译英\n",
    "\n",
    "import os, sys\n",
    "from translation import TranslationService\n",
    "\n",
    "api_key = os.getenv(\"OPENAI_API_KEY\")\n",
    "if not api_key:\n",
    "    print(\n",
    "        \"Error: Please provide API key \"\n",
    "        \"(via OPENAI_API_KEY environment variable)\"\n",
    "    )\n",
    "    sys.exit(1)\n",
    "\n",
    "base_url = \"https://api.deepseek.com\"\n",
    "model = \"deepseek-chat\"\n",
    "\n",
    "texts = [\n",
    "    \"你好，世界！\",\n",
    "    \"你好吗\",\n",
    "]\n",
    "trans = TranslationService(api_key, base_url, \"中文\", \"英文\")\n",
    "for text in texts:\n",
    "    print(f\"{text}\")\n",
    "    trans.translate(text, model=model)\n"
   ]
  },
  {
   "cell_type": "code",
   "execution_count": null,
   "id": "5792f37a",
   "metadata": {},
   "outputs": [],
   "source": [
    "# 英译中\n",
    "\n",
    "from translation import TranslationService\n",
    "\n",
    "api_key = os.getenv(\"OPENAI_API_KEY\")\n",
    "if not api_key:\n",
    "    print(\n",
    "        \"Error: Please provide API key \"\n",
    "        \"(via OPENAI_API_KEY environment variable)\"\n",
    "    )\n",
    "    sys.exit(1)\n",
    "\n",
    "base_url = \"https://api.deepseek.com\"\n",
    "model = \"deepseek-chat\"\n",
    "\n",
    "texts = [\n",
    "    \"Hello, world!\",\n",
    "    \"How are you?\",\n",
    "]\n",
    "trans = TranslationService(api_key, base_url, \"英文\", \"中文\")\n",
    "for text in texts:\n",
    "    print(f\"{text}\")\n",
    "    trans.translate(text, model=model)"
   ]
  },
  {
   "cell_type": "code",
   "execution_count": null,
   "id": "53bb2d81",
   "metadata": {},
   "outputs": [],
   "source": [
    "# 多版本翻译\n",
    "\n",
    "from prompt_service import PromptService\n",
    "\n",
    "api_key = os.getenv(\"OPENAI_API_KEY\")\n",
    "if not api_key:\n",
    "    print(\n",
    "        \"Error: Please provide API key \"\n",
    "        \"(via OPENAI_API_KEY environment variable)\"\n",
    "    )\n",
    "    sys.exit(1)\n",
    "\n",
    "base_url = \"https://api.deepseek.com\"\n",
    "model = \"deepseek-chat\"\n",
    "\n",
    "prompt_svc = PromptService(\n",
    "    api_key=api_key,\n",
    "    base_url=base_url,\n",
    "    template_path=\"system-prompts/zh_to_en.txt\",\n",
    ")\n",
    "\n",
    "texts = [\n",
    "    \"文本润色\",\n",
    "]\n",
    "for text in texts:\n",
    "    print(f\"{text}\")\n",
    "    prompt_svc.stream_chat(text, model=model)\n"
   ]
  }
 ],
 "metadata": {
  "kernelspec": {
   "display_name": "Python 3",
   "language": "python",
   "name": "python3"
  },
  "language_info": {
   "codemirror_mode": {
    "name": "ipython",
    "version": 3
   },
   "file_extension": ".py",
   "mimetype": "text/x-python",
   "name": "python",
   "nbconvert_exporter": "python",
   "pygments_lexer": "ipython3",
   "version": "3.11.8"
  }
 },
 "nbformat": 4,
 "nbformat_minor": 5
}
